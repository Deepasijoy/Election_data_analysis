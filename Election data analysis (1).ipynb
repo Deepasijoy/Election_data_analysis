{
 "cells": [
  {
   "cell_type": "code",
   "execution_count": 1,
   "id": "b9e2d118-21ff-4bf7-af95-61d13d543b50",
   "metadata": {},
   "outputs": [],
   "source": [
    "# importing libraries\n",
    "\n",
    "import pandas as pd\n",
    "import numpy as np"
   ]
  },
  {
   "cell_type": "code",
   "execution_count": 2,
   "id": "a40e2035-6a6b-491f-a4cf-0398b6544557",
   "metadata": {},
   "outputs": [
    {
     "data": {
      "text/html": [
       "<div>\n",
       "<style scoped>\n",
       "    .dataframe tbody tr th:only-of-type {\n",
       "        vertical-align: middle;\n",
       "    }\n",
       "\n",
       "    .dataframe tbody tr th {\n",
       "        vertical-align: top;\n",
       "    }\n",
       "\n",
       "    .dataframe thead th {\n",
       "        text-align: right;\n",
       "    }\n",
       "</style>\n",
       "<table border=\"1\" class=\"dataframe\">\n",
       "  <thead>\n",
       "    <tr style=\"text-align: right;\">\n",
       "      <th></th>\n",
       "      <th>state</th>\n",
       "      <th>pc_name</th>\n",
       "      <th>candidate</th>\n",
       "      <th>sex</th>\n",
       "      <th>age</th>\n",
       "      <th>category</th>\n",
       "      <th>party</th>\n",
       "      <th>party_symbol</th>\n",
       "      <th>general_votes</th>\n",
       "      <th>postal_votes</th>\n",
       "      <th>total_votes</th>\n",
       "      <th>total_electors</th>\n",
       "    </tr>\n",
       "  </thead>\n",
       "  <tbody>\n",
       "    <tr>\n",
       "      <th>0</th>\n",
       "      <td>Andhra Pradesh</td>\n",
       "      <td>Adilabad</td>\n",
       "      <td>GODAM NAGESH</td>\n",
       "      <td>M</td>\n",
       "      <td>49.0</td>\n",
       "      <td>ST</td>\n",
       "      <td>TRS</td>\n",
       "      <td>Car</td>\n",
       "      <td>425762</td>\n",
       "      <td>5085</td>\n",
       "      <td>430847</td>\n",
       "      <td>1386282</td>\n",
       "    </tr>\n",
       "    <tr>\n",
       "      <th>1</th>\n",
       "      <td>Andhra Pradesh</td>\n",
       "      <td>Adilabad</td>\n",
       "      <td>NARESH</td>\n",
       "      <td>M</td>\n",
       "      <td>37.0</td>\n",
       "      <td>ST</td>\n",
       "      <td>INC</td>\n",
       "      <td>Hand</td>\n",
       "      <td>257994</td>\n",
       "      <td>1563</td>\n",
       "      <td>259557</td>\n",
       "      <td>1386282</td>\n",
       "    </tr>\n",
       "    <tr>\n",
       "      <th>2</th>\n",
       "      <td>Andhra Pradesh</td>\n",
       "      <td>Adilabad</td>\n",
       "      <td>RAMESH RATHOD</td>\n",
       "      <td>M</td>\n",
       "      <td>48.0</td>\n",
       "      <td>ST</td>\n",
       "      <td>TDP</td>\n",
       "      <td>Bicycle</td>\n",
       "      <td>182879</td>\n",
       "      <td>1319</td>\n",
       "      <td>184198</td>\n",
       "      <td>1386282</td>\n",
       "    </tr>\n",
       "    <tr>\n",
       "      <th>3</th>\n",
       "      <td>Andhra Pradesh</td>\n",
       "      <td>Adilabad</td>\n",
       "      <td>RATHOD SADASHIV</td>\n",
       "      <td>M</td>\n",
       "      <td>55.0</td>\n",
       "      <td>ST</td>\n",
       "      <td>BSP</td>\n",
       "      <td>Elephant</td>\n",
       "      <td>94363</td>\n",
       "      <td>57</td>\n",
       "      <td>94420</td>\n",
       "      <td>1386282</td>\n",
       "    </tr>\n",
       "    <tr>\n",
       "      <th>4</th>\n",
       "      <td>Andhra Pradesh</td>\n",
       "      <td>Adilabad</td>\n",
       "      <td>NETHAWATH RAMDAS</td>\n",
       "      <td>M</td>\n",
       "      <td>44.0</td>\n",
       "      <td>ST</td>\n",
       "      <td>IND</td>\n",
       "      <td>Auto- Rickshaw</td>\n",
       "      <td>41028</td>\n",
       "      <td>4</td>\n",
       "      <td>41032</td>\n",
       "      <td>1386282</td>\n",
       "    </tr>\n",
       "  </tbody>\n",
       "</table>\n",
       "</div>"
      ],
      "text/plain": [
       "            state    pc_name         candidate sex   age category party  \\\n",
       "0  Andhra Pradesh  Adilabad       GODAM NAGESH   M  49.0       ST   TRS   \n",
       "1  Andhra Pradesh  Adilabad             NARESH   M  37.0       ST   INC   \n",
       "2  Andhra Pradesh  Adilabad      RAMESH RATHOD   M  48.0       ST   TDP   \n",
       "3  Andhra Pradesh  Adilabad    RATHOD SADASHIV   M  55.0       ST   BSP   \n",
       "4  Andhra Pradesh  Adilabad   NETHAWATH RAMDAS   M  44.0       ST   IND   \n",
       "\n",
       "     party_symbol  general_votes  postal_votes  total_votes  total_electors  \n",
       "0             Car         425762          5085       430847         1386282  \n",
       "1            Hand         257994          1563       259557         1386282  \n",
       "2         Bicycle         182879          1319       184198         1386282  \n",
       "3        Elephant          94363            57        94420         1386282  \n",
       "4  Auto- Rickshaw          41028             4        41032         1386282  "
      ]
     },
     "execution_count": 2,
     "metadata": {},
     "output_type": "execute_result"
    }
   ],
   "source": [
    "df=pd.read_csv(r\"C:\\Users\\Tanush Sujoy\\Downloads\\RPC11_Input_For_Participants\\RPC11_Input_For_Participants\\datasets\\constituency_wise_results_2014.csv\")\n",
    "df1=pd.read_csv(r\"C:\\Users\\Tanush Sujoy\\Downloads\\RPC11_Input_For_Participants\\RPC11_Input_For_Participants\\datasets\\constituency_wise_results_2019.csv\")\n",
    "df.head()\n"
   ]
  },
  {
   "cell_type": "code",
   "execution_count": 3,
   "id": "8398256f-6518-436c-8fac-a446b0d42c88",
   "metadata": {},
   "outputs": [
    {
     "data": {
      "text/html": [
       "<div>\n",
       "<style scoped>\n",
       "    .dataframe tbody tr th:only-of-type {\n",
       "        vertical-align: middle;\n",
       "    }\n",
       "\n",
       "    .dataframe tbody tr th {\n",
       "        vertical-align: top;\n",
       "    }\n",
       "\n",
       "    .dataframe thead th {\n",
       "        text-align: right;\n",
       "    }\n",
       "</style>\n",
       "<table border=\"1\" class=\"dataframe\">\n",
       "  <thead>\n",
       "    <tr style=\"text-align: right;\">\n",
       "      <th></th>\n",
       "      <th>state</th>\n",
       "      <th>pc_name</th>\n",
       "      <th>candidate</th>\n",
       "      <th>sex</th>\n",
       "      <th>age</th>\n",
       "      <th>category</th>\n",
       "      <th>party</th>\n",
       "      <th>party_symbol</th>\n",
       "      <th>general_votes</th>\n",
       "      <th>postal_votes</th>\n",
       "      <th>total_votes</th>\n",
       "      <th>total_electors</th>\n",
       "    </tr>\n",
       "  </thead>\n",
       "  <tbody>\n",
       "    <tr>\n",
       "      <th>0</th>\n",
       "      <td>Andhra Pradesh</td>\n",
       "      <td>Aruku</td>\n",
       "      <td>KISHORE CHANDRA DEO</td>\n",
       "      <td>MALE</td>\n",
       "      <td>72.0</td>\n",
       "      <td>ST</td>\n",
       "      <td>TDP</td>\n",
       "      <td>Bicycle</td>\n",
       "      <td>336163</td>\n",
       "      <td>1938</td>\n",
       "      <td>338101</td>\n",
       "      <td>1451418</td>\n",
       "    </tr>\n",
       "    <tr>\n",
       "      <th>1</th>\n",
       "      <td>Andhra Pradesh</td>\n",
       "      <td>Aruku</td>\n",
       "      <td>Dr. KOSURI KASI VISWANADHA VEERA VENKATA SATYA...</td>\n",
       "      <td>MALE</td>\n",
       "      <td>54.0</td>\n",
       "      <td>ST</td>\n",
       "      <td>BJP</td>\n",
       "      <td>Lotus</td>\n",
       "      <td>17578</td>\n",
       "      <td>289</td>\n",
       "      <td>17867</td>\n",
       "      <td>1451418</td>\n",
       "    </tr>\n",
       "    <tr>\n",
       "      <th>2</th>\n",
       "      <td>Andhra Pradesh</td>\n",
       "      <td>Aruku</td>\n",
       "      <td>GODDETI. MADHAVI</td>\n",
       "      <td>FEMALE</td>\n",
       "      <td>26.0</td>\n",
       "      <td>ST</td>\n",
       "      <td>YSRCP</td>\n",
       "      <td>Ceiling Fan</td>\n",
       "      <td>557561</td>\n",
       "      <td>4629</td>\n",
       "      <td>562190</td>\n",
       "      <td>1451418</td>\n",
       "    </tr>\n",
       "    <tr>\n",
       "      <th>3</th>\n",
       "      <td>Andhra Pradesh</td>\n",
       "      <td>Aruku</td>\n",
       "      <td>SHRUTI DEVI VYRICHERLA</td>\n",
       "      <td>FEMALE</td>\n",
       "      <td>46.0</td>\n",
       "      <td>ST</td>\n",
       "      <td>INC</td>\n",
       "      <td>Hand</td>\n",
       "      <td>17656</td>\n",
       "      <td>74</td>\n",
       "      <td>17730</td>\n",
       "      <td>1451418</td>\n",
       "    </tr>\n",
       "    <tr>\n",
       "      <th>4</th>\n",
       "      <td>Andhra Pradesh</td>\n",
       "      <td>Aruku</td>\n",
       "      <td>GANGULAIAH VAMPURU.</td>\n",
       "      <td>MALE</td>\n",
       "      <td>49.0</td>\n",
       "      <td>ST</td>\n",
       "      <td>JnP</td>\n",
       "      <td>Glass Tumbler</td>\n",
       "      <td>42245</td>\n",
       "      <td>549</td>\n",
       "      <td>42794</td>\n",
       "      <td>1451418</td>\n",
       "    </tr>\n",
       "  </tbody>\n",
       "</table>\n",
       "</div>"
      ],
      "text/plain": [
       "            state pc_name                                          candidate  \\\n",
       "0  Andhra Pradesh  Aruku                                 KISHORE CHANDRA DEO   \n",
       "1  Andhra Pradesh  Aruku   Dr. KOSURI KASI VISWANADHA VEERA VENKATA SATYA...   \n",
       "2  Andhra Pradesh  Aruku                                    GODDETI. MADHAVI   \n",
       "3  Andhra Pradesh  Aruku                              SHRUTI DEVI VYRICHERLA   \n",
       "4  Andhra Pradesh  Aruku                                 GANGULAIAH VAMPURU.   \n",
       "\n",
       "      sex   age category  party   party_symbol  general_votes  postal_votes  \\\n",
       "0    MALE  72.0       ST    TDP        Bicycle         336163          1938   \n",
       "1    MALE  54.0       ST    BJP          Lotus          17578           289   \n",
       "2  FEMALE  26.0       ST  YSRCP    Ceiling Fan         557561          4629   \n",
       "3  FEMALE  46.0       ST    INC           Hand          17656            74   \n",
       "4    MALE  49.0       ST    JnP  Glass Tumbler          42245           549   \n",
       "\n",
       "   total_votes  total_electors  \n",
       "0       338101         1451418  \n",
       "1        17867         1451418  \n",
       "2       562190         1451418  \n",
       "3        17730         1451418  \n",
       "4        42794         1451418  "
      ]
     },
     "execution_count": 3,
     "metadata": {},
     "output_type": "execute_result"
    }
   ],
   "source": [
    "df1.head()"
   ]
  },
  {
   "cell_type": "code",
   "execution_count": 4,
   "id": "871bd8bf-d77a-40ec-929a-68d6b58ef185",
   "metadata": {},
   "outputs": [
    {
     "data": {
      "text/plain": [
       "state               0\n",
       "pc_name             0\n",
       "candidate           0\n",
       "sex               510\n",
       "age               510\n",
       "category          510\n",
       "party               0\n",
       "party_symbol        0\n",
       "general_votes       0\n",
       "postal_votes        0\n",
       "total_votes         0\n",
       "total_electors      0\n",
       "dtype: int64"
      ]
     },
     "execution_count": 4,
     "metadata": {},
     "output_type": "execute_result"
    }
   ],
   "source": [
    "df.isnull().sum()"
   ]
  },
  {
   "cell_type": "code",
   "execution_count": 5,
   "id": "d2934f5f-a3aa-44d9-b633-9a250a1767c2",
   "metadata": {},
   "outputs": [],
   "source": [
    "# Calculate the mode for the 'category' column\n",
    "category_mode = df['category'].mode()[0]\n",
    "sex_mode=df['sex'].mode()[0]"
   ]
  },
  {
   "cell_type": "code",
   "execution_count": 6,
   "id": "56380621-0902-47cc-9d6c-7f301c98d494",
   "metadata": {},
   "outputs": [],
   "source": [
    "# Calculate the mean for the 'age' column\n",
    "age_mean = df['age'].mean()\n"
   ]
  },
  {
   "cell_type": "code",
   "execution_count": 7,
   "id": "9714c27b-d3e6-4dbb-9eb0-419cdab2b697",
   "metadata": {},
   "outputs": [
    {
     "name": "stderr",
     "output_type": "stream",
     "text": [
      "C:\\Users\\Tanush Sujoy\\AppData\\Local\\Temp\\ipykernel_13460\\120287662.py:2: FutureWarning: A value is trying to be set on a copy of a DataFrame or Series through chained assignment using an inplace method.\n",
      "The behavior will change in pandas 3.0. This inplace method will never work because the intermediate object on which we are setting values always behaves as a copy.\n",
      "\n",
      "For example, when doing 'df[col].method(value, inplace=True)', try using 'df.method({col: value}, inplace=True)' or df[col] = df[col].method(value) instead, to perform the operation inplace on the original object.\n",
      "\n",
      "\n",
      "  df['category'].fillna(category_mode,inplace=True)\n"
     ]
    }
   ],
   "source": [
    "# Replace null values in 'category' with the mode\n",
    "df['category'].fillna(category_mode,inplace=True)\n",
    "df['sex']=df['sex'].fillna(sex_mode)\n",
    "\n",
    "# Replace null values in 'age' with the mean\n",
    "df['age']=df['age'].fillna(age_mean)\n"
   ]
  },
  {
   "cell_type": "code",
   "execution_count": 8,
   "id": "16791d2e-9dfd-40e7-bcd4-28b9838721cf",
   "metadata": {},
   "outputs": [
    {
     "data": {
      "text/plain": [
       "state             0\n",
       "pc_name           0\n",
       "candidate         0\n",
       "sex               0\n",
       "age               0\n",
       "category          0\n",
       "party             0\n",
       "party_symbol      0\n",
       "general_votes     0\n",
       "postal_votes      0\n",
       "total_votes       0\n",
       "total_electors    0\n",
       "dtype: int64"
      ]
     },
     "execution_count": 8,
     "metadata": {},
     "output_type": "execute_result"
    }
   ],
   "source": [
    "df.isnull().sum()"
   ]
  },
  {
   "cell_type": "code",
   "execution_count": 9,
   "id": "492c9778-04b5-447c-a544-d69e5808f8f5",
   "metadata": {},
   "outputs": [
    {
     "data": {
      "text/plain": [
       "state               0\n",
       "pc_name             0\n",
       "candidate           0\n",
       "sex               543\n",
       "age               543\n",
       "category          543\n",
       "party               0\n",
       "party_symbol      543\n",
       "general_votes       0\n",
       "postal_votes        0\n",
       "total_votes         0\n",
       "total_electors      0\n",
       "dtype: int64"
      ]
     },
     "execution_count": 9,
     "metadata": {},
     "output_type": "execute_result"
    }
   ],
   "source": [
    "df1.isnull().sum()"
   ]
  },
  {
   "cell_type": "code",
   "execution_count": 10,
   "id": "5170b7ce-d8f3-481a-9183-4360094a55a5",
   "metadata": {},
   "outputs": [],
   "source": [
    "#Calculate mode for sex,party,category\n",
    "party_symbol_mode=df1['party_symbol'].mode()[0]\n",
    "sex1_mode=df1['sex'].mode()[0]\n",
    "category1_mode=df1['category'].mode()[0]"
   ]
  },
  {
   "cell_type": "code",
   "execution_count": 11,
   "id": "b3035499-6c1c-44a4-9532-bcafcc2692e2",
   "metadata": {},
   "outputs": [],
   "source": [
    "#calculate mean for age\n",
    "age1_mean=df1['age'].mean()"
   ]
  },
  {
   "cell_type": "code",
   "execution_count": 12,
   "id": "47bfed77-d318-445f-b321-43e282512ad5",
   "metadata": {},
   "outputs": [],
   "source": [
    "# Replace null values in 'category' with the mode\n",
    "df1['category']=df1['category'].fillna(category1_mode)\n",
    "df1['sex']=df1['sex'].fillna(sex1_mode)\n",
    "df1['party_symbol']=df1['party_symbol'].fillna(party_symbol_mode)\n",
    "\n",
    "# Replace null values in 'age' with the mean\n",
    "df1['age']= df1['age'].fillna(age_mean)"
   ]
  },
  {
   "cell_type": "code",
   "execution_count": 13,
   "id": "ef11dd6c-2158-4b43-99c3-74f3208362d6",
   "metadata": {},
   "outputs": [
    {
     "data": {
      "text/plain": [
       "state             0\n",
       "pc_name           0\n",
       "candidate         0\n",
       "sex               0\n",
       "age               0\n",
       "category          0\n",
       "party             0\n",
       "party_symbol      0\n",
       "general_votes     0\n",
       "postal_votes      0\n",
       "total_votes       0\n",
       "total_electors    0\n",
       "dtype: int64"
      ]
     },
     "execution_count": 13,
     "metadata": {},
     "output_type": "execute_result"
    }
   ],
   "source": [
    "df1.isnull().sum()"
   ]
  },
  {
   "cell_type": "code",
   "execution_count": 14,
   "id": "fcdf757c-9e22-456a-a70f-de645a6ec68f",
   "metadata": {},
   "outputs": [
    {
     "data": {
      "text/plain": [
       "0"
      ]
     },
     "execution_count": 14,
     "metadata": {},
     "output_type": "execute_result"
    }
   ],
   "source": [
    "df.duplicated().sum()"
   ]
  },
  {
   "cell_type": "code",
   "execution_count": 15,
   "id": "f4298009-76df-41f1-aefe-72adce36d0b7",
   "metadata": {},
   "outputs": [
    {
     "data": {
      "text/plain": [
       "0"
      ]
     },
     "execution_count": 15,
     "metadata": {},
     "output_type": "execute_result"
    }
   ],
   "source": [
    "df1.duplicated().sum()"
   ]
  },
  {
   "cell_type": "code",
   "execution_count": 16,
   "id": "b438d83c-94b2-469e-a431-89afe29db6c2",
   "metadata": {},
   "outputs": [
    {
     "data": {
      "text/plain": [
       "(8355, 12)"
      ]
     },
     "execution_count": 16,
     "metadata": {},
     "output_type": "execute_result"
    }
   ],
   "source": [
    "df.shape"
   ]
  },
  {
   "cell_type": "code",
   "execution_count": 17,
   "id": "4ba7f267-5865-43d4-8a32-3a7f57e4977d",
   "metadata": {},
   "outputs": [
    {
     "data": {
      "text/plain": [
       "(8597, 12)"
      ]
     },
     "execution_count": 17,
     "metadata": {},
     "output_type": "execute_result"
    }
   ],
   "source": [
    "df1.shape"
   ]
  },
  {
   "cell_type": "markdown",
   "id": "d57c0b2a-5262-489f-8793-7664136125f6",
   "metadata": {},
   "source": [
    "# check for spelling errors in constituency"
   ]
  },
  {
   "cell_type": "code",
   "execution_count": 18,
   "id": "3c7b9952-c958-403d-b7ad-b6f5e6d875af",
   "metadata": {},
   "outputs": [],
   "source": [
    "# Check for unique constituency names\n",
    "unique_pc_names = df['pc_name'].unique()"
   ]
  },
  {
   "cell_type": "code",
   "execution_count": 31,
   "id": "56aaefe3-a2e3-4719-bc1e-b10520a80257",
   "metadata": {},
   "outputs": [
    {
     "name": "stdout",
     "output_type": "stream",
     "text": [
      "Unique constituency names before correction: ['Adilabad ' 'Peddapalle ' 'Karimnagar ' 'Nizamabad' 'Zahirabad' 'Medak'\n",
      " 'Malkajgiri' 'Secundrabad' 'Hyderabad' 'CHELVELLA' 'Mahbubnagar'\n",
      " 'Nagarkurnool' 'Nalgonda' 'Bhongir ' 'Warangal' 'Mahabubabad  '\n",
      " 'Khammam ' 'Aruku ' 'Srikakulam' 'Vizianagaram' 'Visakhapatnam'\n",
      " 'Anakapalli' 'Kakinada' 'Amalapuram ' 'Rajahmundry' 'Narsapuram' 'Eluru '\n",
      " 'Machilipatnam ' 'Vijayawada' 'Guntur' 'Narasaraopet' 'Bapatla '\n",
      " 'Ongole ' 'Nandyal' 'Kurnool' 'Anantapur' 'Hindupur' 'Kadapa' 'Nellore'\n",
      " 'Tirupati ' 'Rajampet' 'Chittoor ' 'ARUNACHAL WEST' 'ARUNACHAL EAST'\n",
      " 'Karimganj ' 'Silchar' 'Autonomous District' 'Dhubri' 'Kokrajhar'\n",
      " 'Barpeta' 'Gauhati' 'Mangaldoi' 'Tezpur' 'Nowgong' 'Kaliabor' 'Jorhat'\n",
      " 'Dibrugarh' 'Lakhimpur' 'Valmiki Nagar' 'Paschim Champaran'\n",
      " 'Purvi Champaran' 'Sheohar' 'Sitamarhi' 'Madhubani' 'Jhanjharpur'\n",
      " 'Supaul' 'Araria' 'Kishanganj' 'Katihar' 'Purnia' 'Madhepura' 'Darbhanga'\n",
      " 'Muzaffarpur' 'Vaishali' 'Gopalganj (SC)' 'Siwan' 'Maharajganj' 'Saran'\n",
      " 'Hajipur (SC)' 'Ujiarpur' 'Samastipur (SC)' 'Begusarai' 'Khagaria'\n",
      " 'Bhagalpur' 'Banka' 'Munger' 'Nalanda' 'Patna Sahib' 'Pataliputra'\n",
      " 'Arrah' 'Buxar' 'Sasaram (SC)' 'Karakat' 'Jahanabad' 'Aurangabad'\n",
      " 'Gaya (SC)' 'Nawada' 'Jamui (SC)' 'North Goa' 'South Goa' 'Kachchh'\n",
      " 'Banaskantha' 'Patan' 'Mahesana' 'Sabarkantha' 'Gandhinagar'\n",
      " 'Ahmedabad East' 'Ahmedabad West' 'Surendranagar' 'Rajkot' 'Porbandar'\n",
      " 'Jamnagar' 'Junagadh' 'Amreli' 'Bhavnagar' 'Anand' 'Kheda' 'Panchmahal'\n",
      " 'Dahod' 'Vadodara' 'Chhota Udaipur' 'Bharuch' 'Bardoli' 'Surat' 'Navsari'\n",
      " 'Valsad' 'Ambala' 'Kurukshetra' 'Sirsa' 'Hisar' 'Karnal' 'Sonipat'\n",
      " 'Rohtak' 'Bhiwani-Mahendragarh' 'Gurgaon' 'Faridabad' 'Kangra' 'Mandi'\n",
      " 'Hamirpur' 'Shimla' 'Baramulla' 'Srinagar' 'Anantnag' 'Ladakh' 'Udhampur'\n",
      " 'Jammu' 'Chikkodi' 'Belgaum' 'Bagalkot' 'Bijapur' 'Gulbarga' 'Raichur'\n",
      " 'Bidar' 'Koppal' 'Bellary' 'Haveri' 'Dharwad' 'Uttara Kannada'\n",
      " 'Davanagere' 'Shimoga' 'Udupi Chikmagalur' 'Hassan' 'Dakshina Kannada'\n",
      " 'Chitradurga' 'Tumkur' 'Mandya' 'Mysore' 'Chamarajanagar'\n",
      " 'Bangalore Rural' 'Bangalore North' 'Bangalore central' 'Bangalore South'\n",
      " 'Chikkballapur' 'Kolar' 'Kasaragod' 'Kannur' 'Vadakara' 'Wayanad'\n",
      " 'Kozhikode' 'Malappuram' 'Ponnani' 'Palakkad' 'Alathur ' 'Thrissur'\n",
      " 'Chalakudy' 'Ernakulam' 'Idukki' 'Kottayam' 'Alappuzha' 'Mavelikkara '\n",
      " 'Pathanamthitta' 'Kollam' 'Attingal' 'Thiruvananthapuram' 'MORENA'\n",
      " 'BHIND' 'GWALIOR' 'GUNA' 'SAGAR' 'TIKAMGARH' 'DAMOH' 'KHAJURAHO' 'SATNA'\n",
      " 'REWA' 'SIDHI' 'SHAHDOL' 'JABALPUR' 'MANDLA' 'BALAGHAT' 'CHHINDWARA'\n",
      " 'HOSHANGABAD' 'VIDISHA' 'BHOPAL' 'RAJGARH' 'DEWAS' 'UJJAIN' 'MANDSOUR'\n",
      " 'RATLAM' 'DHAR' 'INDORE' 'KHARGONE' 'KHANDWA' 'BETUL' 'Nandurbar '\n",
      " 'Dhule' 'Jalgaon' 'Raver' 'Buldhana' 'Akola' 'Amravati ' 'Wardha'\n",
      " 'Ramtek ' 'Nagpur ' 'Bhandara - gondiya' 'Gadchiroli-Chimur' 'Chandrapur'\n",
      " 'Yavatmal-Washim' 'Hingoli ' 'Nanded' 'Parbhani' 'Jalna' 'Dindori '\n",
      " 'Nashik' 'Palghar ' 'Bhiwandi' 'Kalyan' 'Thane' 'Mumbai North'\n",
      " 'Mumbai North West' 'Mumbai North East' 'Mumbai North central'\n",
      " 'Mumbai South central' 'Mumbai   South' 'Raigad' 'Maval' 'Pune'\n",
      " 'Baramati' 'Shirur' 'Ahmadnagar ' 'Shirdi' 'Beed' 'Osmanabad' 'Latur '\n",
      " 'Solapur ' 'Madha' 'Sangli' 'Satara' 'Ratnagiri - sindhudurg' 'Kolhapur'\n",
      " 'Hatkanangle' 'Inner manipur' 'Outer manipur' 'Shillong' 'Tura '\n",
      " 'MIZORAM' 'Nagaland' 'Gurdaspur' 'Amritsar' 'Khadoor Sahib' 'Jalandhar'\n",
      " 'Hoshiarpur' 'Anandpur Sahib' 'Ludhiana' 'Fatehgarh Sahib' 'Faridkot'\n",
      " 'Firozpur' 'Bathinda' 'Sangrur' 'Patiala' 'Ganganagar' 'Bikaner' 'Churu'\n",
      " 'Jhunjhunu' 'Sikar' 'Jaipur Rural' 'Jaipur' 'Alwar' 'BHARATPUR'\n",
      " 'KARAULI-DHOLPUR' 'Dausa' 'TONK-SAWAI MADHOPUR' 'Ajmer' 'Nagaur' 'Pali'\n",
      " 'Jodhpur' 'Barmer' 'Jalore' 'Udaipur' 'Banswara' 'Chittorgarh'\n",
      " 'Rajsamand' 'Bhilwara' 'Kota' 'JHALAWAR-BARAN' 'Sikkim' 'Thiruvallur '\n",
      " 'Chennai North' 'Chennai South' 'Chennai central' 'Sriperumbudur'\n",
      " 'Kancheepuram ' 'Arakkonam' 'Vellore' 'Krishnagiri' 'Dharmapuri'\n",
      " 'Tiruvannamalai' 'Arani' 'Viluppuram' 'Kallakurichi' 'Salem' 'Namakkal'\n",
      " 'Erode' 'Tiruppur' 'Nilgiris ' 'Coimbatore' 'Pollachi' 'Dindigul' 'Karur'\n",
      " 'Tiruchirappalli' 'Perambalur' 'Cuddalore ' 'Chidambaram '\n",
      " 'Mayiladuthurai' 'Nagapattinam ' 'Thanjavur' 'Sivaganga' 'Madurai'\n",
      " 'Theni ' 'Virudhunagar' 'Ramanathapuram' 'Thoothukkudi' 'Tenkasi '\n",
      " 'Tirunelveli' 'Kanniyakumari' 'Tripura West' 'Tripura East' 'Saharanpur'\n",
      " 'Kairana' 'Muzaffarnagar' 'Bijnor' 'Nagina' 'Moradabad' 'Rampur'\n",
      " 'Sambhal' 'Amroha' 'Meerut' 'Baghpat' 'Ghaziabad' 'Gautam Buddha Nagar'\n",
      " 'Bulandshahr' 'Aligarh' 'Hathras' 'Mathura' 'Agra' 'Fatehpur Sikri'\n",
      " 'Firozabad' 'Mainpuri' 'Etah' 'Badaun' 'Aonla' 'Bareilly' 'Pilibhit'\n",
      " 'Shahjahanpur' 'Kheri' 'Dhaurahra' 'Sitapur' 'Hardoi' 'Misrikh' 'Unnao'\n",
      " 'Mohanlalganj' 'Lucknow' 'Rae Bareli' 'Amethi' 'Sultanpur' 'Pratapgarh'\n",
      " 'Farrukhabad' 'Etawah' 'Kannauj' 'Kanpur' 'Akbarpur' 'Jalaun' 'Jhansi'\n",
      " 'Banda' 'Fatehpur' 'Kaushambi' 'Phulpur' 'Allahabad' 'Barabanki'\n",
      " 'Faizabad' 'Ambedkar Nagar' 'Bahraich' 'Kaiserganj' 'Shrawasti' 'Gonda'\n",
      " 'Domariyaganj' 'Basti' 'Sant Kabir Nagar' 'Gorakhpur' 'Kushi Nagar'\n",
      " 'Deoria' 'Bansgaon' 'Lalganj' 'Azamgarh' 'Ghosi' 'Salempur' 'Ballia'\n",
      " 'Jaunpur' 'Machhlishahr' 'Ghazipur' 'Chandauli' 'Varanasi' 'Bhadohi'\n",
      " 'Mirzapur' 'Robertsganj' 'Cooch behar' 'Alipurduars' 'Jalpaiguri'\n",
      " 'Darjeeling' 'Raiganj' 'Balurghat' 'Maldaha Uttar' 'Maldaha Dakshin'\n",
      " 'Jangipur' 'Baharampur' 'Murshidabad' 'Krishnanagar' 'Ranaghat' 'Bangaon'\n",
      " 'Barrackpore' 'Dum dum' 'Barasat' 'Basirhat' 'Joynagar' 'Mathurapur'\n",
      " 'Diamond harbour' 'Jadavpur' 'Kolkata Dakshin' 'Kolkata Uttar' 'Howrah'\n",
      " 'Uluberia' 'Srerampur' 'Hooghly' 'Arambagh' 'Tamluk' 'Kanthi' 'Ghatal'\n",
      " 'Jhargram' 'Medinipur' 'Purulia' 'Bankura' 'Bishnupur' 'Bardhaman Purba'\n",
      " 'Burdwan - durgapur' 'Asansol' 'Bolpur' 'Birbhum' 'Rajmahal' 'Dumka'\n",
      " 'Godda' 'Chatra' 'Kodarma' 'Giridih' 'Dhanbad' 'Ranchi' 'Jamshedpur'\n",
      " 'Singhbhum' 'Khunti' 'Lohardaga' 'Palamau' 'Hazaribagh' 'Tehri Garhwal'\n",
      " 'Garhwal' 'Almora' 'Nainital-udhamsingh Nagar' 'Hardwar'\n",
      " 'Andaman & Nicobar Islands' 'CHANDIGARH' 'Dadar & Nagar Haveli'\n",
      " 'Daman & diu' 'CHANDNI CHOWK                 '\n",
      " 'NORTH EAST DELHI              ' 'EAST DELHI                    '\n",
      " 'NEW DELHI                     ' 'NORTH WEST DELHI              '\n",
      " 'WEST DELHI                    ' 'SOUTH DELHI                   '\n",
      " 'Lakshadweep' 'Puducherry']\n"
     ]
    }
   ],
   "source": [
    "print(\"Unique constituency names before correction:\", unique_pc_names)"
   ]
  },
  {
   "cell_type": "code",
   "execution_count": 19,
   "id": "c96ba64e-bd98-4f18-8e99-60a1c9ca9673",
   "metadata": {},
   "outputs": [],
   "source": [
    "from spellchecker import SpellChecker\n",
    "import spacy\n",
    "from multiprocessing import Pool"
   ]
  },
  {
   "cell_type": "code",
   "execution_count": 20,
   "id": "1aaf192d-1ecc-46cf-9555-199035673f7c",
   "metadata": {},
   "outputs": [],
   "source": [
    "# Extract unique constituency names from  DataFrame\n",
    "unique_constituencies = df['pc_name'].unique()\n",
    "\n",
    "# Initialize spaCy and spell checker\n",
    "nlp = spacy.load('en_core_web_sm')\n",
    "spell = SpellChecker(distance=2)\n",
    "spell.word_frequency.load_words(unique_constituencies)\n",
    "\n"
   ]
  },
  {
   "cell_type": "code",
   "execution_count": 21,
   "id": "8d9812ae-5aae-40c6-a122-ae4f0204ada1",
   "metadata": {},
   "outputs": [
    {
     "name": "stdout",
     "output_type": "stream",
     "text": [
      "         pc_name pc_name_corrected\n",
      "0      Adilabad          Adilabad \n",
      "1      Adilabad          Adilabad \n",
      "2      Adilabad          Adilabad \n",
      "3      Adilabad          Adilabad \n",
      "4      Adilabad          Adilabad \n",
      "...          ...               ...\n",
      "8350  Puducherry        Puducherry\n",
      "8351  Puducherry        Puducherry\n",
      "8352  Puducherry        Puducherry\n",
      "8353  Puducherry        Puducherry\n",
      "8354  Puducherry        Puducherry\n",
      "\n",
      "[8355 rows x 2 columns]\n"
     ]
    }
   ],
   "source": [
    "# Function to correct constituency name\n",
    "def corrected_pc_name(name):\n",
    "    corrected_name = spell.correction(name)\n",
    "    return corrected_name\n",
    "\n",
    "# Apply correction to the 'pc_name' column in your DataFrame\n",
    "df['pc_name_corrected'] = df['pc_name'].apply(corrected_pc_name)\n",
    "\n",
    "# Display corrected constituency names\n",
    "df_corrected=df[['pc_name','pc_name_corrected']]\n",
    "print(df_corrected)"
   ]
  },
  {
   "cell_type": "markdown",
   "id": "36133e10-cc34-4934-a469-a29e91df56f7",
   "metadata": {},
   "source": [
    "# Spell check for 2019 poll pc_name"
   ]
  },
  {
   "cell_type": "code",
   "execution_count": 22,
   "id": "69d90a46-a365-4a99-a6da-d6b64c852e59",
   "metadata": {},
   "outputs": [],
   "source": [
    "# Extract unique constituency names from  DataFrame\n",
    "unique_constituencies_2019 = df1['pc_name'].unique()\n",
    "\n",
    "# Initialize spaCy and spell checker\n",
    "nlp = spacy.load('en_core_web_sm')\n",
    "spell = SpellChecker(distance=2)\n",
    "spell.word_frequency.load_words(unique_constituencies_2019)\n"
   ]
  },
  {
   "cell_type": "code",
   "execution_count": 23,
   "id": "55cb1ca3-e6d5-4ba2-b1c1-d420e609e934",
   "metadata": {},
   "outputs": [
    {
     "name": "stdout",
     "output_type": "stream",
     "text": [
      "         pc_name pc_name_corrected_2019\n",
      "0         Aruku                  Aruku \n",
      "1         Aruku                  Aruku \n",
      "2         Aruku                  Aruku \n",
      "3         Aruku                  Aruku \n",
      "4         Aruku                  Aruku \n",
      "...          ...                    ...\n",
      "8592  Puducherry             Puducherry\n",
      "8593  Puducherry             Puducherry\n",
      "8594  Puducherry             Puducherry\n",
      "8595  Puducherry             Puducherry\n",
      "8596  Puducherry             Puducherry\n",
      "\n",
      "[8597 rows x 2 columns]\n"
     ]
    }
   ],
   "source": [
    "# Function to correct constituency name\n",
    "def corrected_pc_name_2019(name):\n",
    "    corrected_name_2019 = spell.correction(name)\n",
    "    return corrected_name_2019\n",
    "\n",
    "# Apply correction to the 'pc_name' column in your DataFrame\n",
    "df1['pc_name_corrected_2019'] = df1['pc_name'].apply(corrected_pc_name_2019)\n",
    "\n",
    "# Display corrected constituency names\n",
    "df_corrected_2019=df1[['pc_name','pc_name_corrected_2019']]\n",
    "print(df_corrected_2019)"
   ]
  },
  {
   "cell_type": "markdown",
   "id": "6353512b-22c8-4965-a874-761c91798c6c",
   "metadata": {},
   "source": [
    "# election data 2014 check"
   ]
  },
  {
   "cell_type": "code",
   "execution_count": 24,
   "id": "dcb974d3-0396-433a-a637-d93826839938",
   "metadata": {},
   "outputs": [
    {
     "data": {
      "text/plain": [
       "state                0\n",
       "pc_name              0\n",
       "candidate            0\n",
       "sex                  0\n",
       "age                  0\n",
       "category             0\n",
       "party                0\n",
       "party_symbol         0\n",
       "general_votes        0\n",
       "postal_votes         0\n",
       "total_votes          0\n",
       "total_electors       0\n",
       "pc_name_corrected    0\n",
       "dtype: int64"
      ]
     },
     "execution_count": 24,
     "metadata": {},
     "output_type": "execute_result"
    }
   ],
   "source": [
    "df.isnull().sum()"
   ]
  },
  {
   "cell_type": "code",
   "execution_count": 25,
   "id": "c3fc5d41-d31a-41eb-8a29-7772fbab5c50",
   "metadata": {},
   "outputs": [
    {
     "data": {
      "text/plain": [
       "state                     0\n",
       "pc_name                   0\n",
       "candidate                 0\n",
       "sex                       0\n",
       "age                       0\n",
       "category                  0\n",
       "party                     0\n",
       "party_symbol              0\n",
       "general_votes             0\n",
       "postal_votes              0\n",
       "total_votes               0\n",
       "total_electors            0\n",
       "pc_name_corrected_2019    0\n",
       "dtype: int64"
      ]
     },
     "execution_count": 25,
     "metadata": {},
     "output_type": "execute_result"
    }
   ],
   "source": [
    "df1.isnull().sum()"
   ]
  },
  {
   "cell_type": "code",
   "execution_count": 26,
   "id": "3c58c7fe-9d6a-499f-97d1-f118e664e5a2",
   "metadata": {},
   "outputs": [
    {
     "data": {
      "text/plain": [
       "0"
      ]
     },
     "execution_count": 26,
     "metadata": {},
     "output_type": "execute_result"
    }
   ],
   "source": [
    "df.duplicated().sum()"
   ]
  },
  {
   "cell_type": "code",
   "execution_count": 27,
   "id": "b1290e97-b666-4043-85cd-b99498b8c1d8",
   "metadata": {},
   "outputs": [
    {
     "data": {
      "text/plain": [
       "0"
      ]
     },
     "execution_count": 27,
     "metadata": {},
     "output_type": "execute_result"
    }
   ],
   "source": [
    "df1.duplicated().sum()"
   ]
  },
  {
   "cell_type": "code",
   "execution_count": 28,
   "id": "ed2eefb1-98c0-440e-b64c-a33981aa6a65",
   "metadata": {},
   "outputs": [
    {
     "data": {
      "text/html": [
       "<div>\n",
       "<style scoped>\n",
       "    .dataframe tbody tr th:only-of-type {\n",
       "        vertical-align: middle;\n",
       "    }\n",
       "\n",
       "    .dataframe tbody tr th {\n",
       "        vertical-align: top;\n",
       "    }\n",
       "\n",
       "    .dataframe thead th {\n",
       "        text-align: right;\n",
       "    }\n",
       "</style>\n",
       "<table border=\"1\" class=\"dataframe\">\n",
       "  <thead>\n",
       "    <tr style=\"text-align: right;\">\n",
       "      <th></th>\n",
       "      <th>state</th>\n",
       "      <th>pc_name</th>\n",
       "      <th>candidate</th>\n",
       "      <th>sex</th>\n",
       "      <th>age</th>\n",
       "      <th>category</th>\n",
       "      <th>party</th>\n",
       "      <th>party_symbol</th>\n",
       "      <th>general_votes</th>\n",
       "      <th>postal_votes</th>\n",
       "      <th>total_votes</th>\n",
       "      <th>total_electors</th>\n",
       "      <th>pc_name_corrected</th>\n",
       "    </tr>\n",
       "  </thead>\n",
       "  <tbody>\n",
       "    <tr>\n",
       "      <th>0</th>\n",
       "      <td>Andhra Pradesh</td>\n",
       "      <td>Adilabad</td>\n",
       "      <td>GODAM NAGESH</td>\n",
       "      <td>M</td>\n",
       "      <td>49.0</td>\n",
       "      <td>ST</td>\n",
       "      <td>TRS</td>\n",
       "      <td>Car</td>\n",
       "      <td>425762</td>\n",
       "      <td>5085</td>\n",
       "      <td>430847</td>\n",
       "      <td>1386282</td>\n",
       "      <td>Adilabad</td>\n",
       "    </tr>\n",
       "    <tr>\n",
       "      <th>1</th>\n",
       "      <td>Andhra Pradesh</td>\n",
       "      <td>Adilabad</td>\n",
       "      <td>NARESH</td>\n",
       "      <td>M</td>\n",
       "      <td>37.0</td>\n",
       "      <td>ST</td>\n",
       "      <td>INC</td>\n",
       "      <td>Hand</td>\n",
       "      <td>257994</td>\n",
       "      <td>1563</td>\n",
       "      <td>259557</td>\n",
       "      <td>1386282</td>\n",
       "      <td>Adilabad</td>\n",
       "    </tr>\n",
       "    <tr>\n",
       "      <th>2</th>\n",
       "      <td>Andhra Pradesh</td>\n",
       "      <td>Adilabad</td>\n",
       "      <td>RAMESH RATHOD</td>\n",
       "      <td>M</td>\n",
       "      <td>48.0</td>\n",
       "      <td>ST</td>\n",
       "      <td>TDP</td>\n",
       "      <td>Bicycle</td>\n",
       "      <td>182879</td>\n",
       "      <td>1319</td>\n",
       "      <td>184198</td>\n",
       "      <td>1386282</td>\n",
       "      <td>Adilabad</td>\n",
       "    </tr>\n",
       "  </tbody>\n",
       "</table>\n",
       "</div>"
      ],
      "text/plain": [
       "            state    pc_name      candidate sex   age category party  \\\n",
       "0  Andhra Pradesh  Adilabad    GODAM NAGESH   M  49.0       ST   TRS   \n",
       "1  Andhra Pradesh  Adilabad          NARESH   M  37.0       ST   INC   \n",
       "2  Andhra Pradesh  Adilabad   RAMESH RATHOD   M  48.0       ST   TDP   \n",
       "\n",
       "  party_symbol  general_votes  postal_votes  total_votes  total_electors  \\\n",
       "0          Car         425762          5085       430847         1386282   \n",
       "1         Hand         257994          1563       259557         1386282   \n",
       "2      Bicycle         182879          1319       184198         1386282   \n",
       "\n",
       "  pc_name_corrected  \n",
       "0         Adilabad   \n",
       "1         Adilabad   \n",
       "2         Adilabad   "
      ]
     },
     "execution_count": 28,
     "metadata": {},
     "output_type": "execute_result"
    }
   ],
   "source": [
    "df.head(3)"
   ]
  },
  {
   "cell_type": "code",
   "execution_count": 29,
   "id": "757354a8-88f4-458e-b548-29e89c0a0575",
   "metadata": {},
   "outputs": [],
   "source": [
    "# Drop the 'pc_name'  columns\n",
    "df.drop(['pc_name'], axis=1, inplace=True)"
   ]
  },
  {
   "cell_type": "code",
   "execution_count": 30,
   "id": "06541a3d-a8ad-40be-8809-27a1a0de070a",
   "metadata": {},
   "outputs": [
    {
     "data": {
      "text/html": [
       "<div>\n",
       "<style scoped>\n",
       "    .dataframe tbody tr th:only-of-type {\n",
       "        vertical-align: middle;\n",
       "    }\n",
       "\n",
       "    .dataframe tbody tr th {\n",
       "        vertical-align: top;\n",
       "    }\n",
       "\n",
       "    .dataframe thead th {\n",
       "        text-align: right;\n",
       "    }\n",
       "</style>\n",
       "<table border=\"1\" class=\"dataframe\">\n",
       "  <thead>\n",
       "    <tr style=\"text-align: right;\">\n",
       "      <th></th>\n",
       "      <th>state</th>\n",
       "      <th>candidate</th>\n",
       "      <th>sex</th>\n",
       "      <th>age</th>\n",
       "      <th>category</th>\n",
       "      <th>party</th>\n",
       "      <th>party_symbol</th>\n",
       "      <th>general_votes</th>\n",
       "      <th>postal_votes</th>\n",
       "      <th>total_votes</th>\n",
       "      <th>total_electors</th>\n",
       "      <th>pc_name_corrected</th>\n",
       "    </tr>\n",
       "  </thead>\n",
       "  <tbody>\n",
       "    <tr>\n",
       "      <th>0</th>\n",
       "      <td>Andhra Pradesh</td>\n",
       "      <td>GODAM NAGESH</td>\n",
       "      <td>M</td>\n",
       "      <td>49.0</td>\n",
       "      <td>ST</td>\n",
       "      <td>TRS</td>\n",
       "      <td>Car</td>\n",
       "      <td>425762</td>\n",
       "      <td>5085</td>\n",
       "      <td>430847</td>\n",
       "      <td>1386282</td>\n",
       "      <td>Adilabad</td>\n",
       "    </tr>\n",
       "  </tbody>\n",
       "</table>\n",
       "</div>"
      ],
      "text/plain": [
       "            state     candidate sex   age category party party_symbol  \\\n",
       "0  Andhra Pradesh  GODAM NAGESH   M  49.0       ST   TRS          Car   \n",
       "\n",
       "   general_votes  postal_votes  total_votes  total_electors pc_name_corrected  \n",
       "0         425762          5085       430847         1386282         Adilabad   "
      ]
     },
     "execution_count": 30,
     "metadata": {},
     "output_type": "execute_result"
    }
   ],
   "source": [
    "df.head(1)"
   ]
  },
  {
   "cell_type": "code",
   "execution_count": 31,
   "id": "e68733ef-805c-4c2a-95e7-66cc3df7df73",
   "metadata": {},
   "outputs": [],
   "source": [
    "# List of constituencies to change state from Andhra Pradesh to Telangana\n",
    "constituencies_to_change = [\n",
    "    'Adilabad', 'Bhadradri Kothagudem', 'Hanumakonda', 'Hyderabad', 'Jagitial',\n",
    "    'Jangoan', 'Jayashankar Bhupalapally', 'Jogulamba Gadwal', 'Kamareddy',\n",
    "    'Karimnagar', 'Khammam', 'Kumuram Bheem Asifabad', 'Mahabubabad', 'Mahabubnagar',\n",
    "    'Mancherial', 'Medak', 'Medchal Malkajgiri', 'Mulugu', 'Nagarkurnool',\n",
    "    'Nalgonda', 'Narayanpet', 'Nirmal', 'Nizamabad', 'Peddapalli', 'Rajanna Sircilla',\n",
    "    'Wanaparthy', 'Warangal', 'Yadadri Bhuvanagiri', 'Ranga Reddy', 'Sangareddy',\n",
    "    'Siddipet', 'Suryapet', 'Vikarabad'\n",
    "]\n",
    "\n",
    "# Change the state from Andhra Pradesh to Telangana for the specified constituencies\n",
    "df.loc[df['pc_name_corrected'].isin(constituencies_to_change), 'state'] = 'Telangana'"
   ]
  },
  {
   "cell_type": "code",
   "execution_count": 32,
   "id": "1a2432d4-2000-4f37-8a7d-44f4102ea3ab",
   "metadata": {},
   "outputs": [],
   "source": [
    "# Reorder the columns\n",
    "df_reordered = df[['state', 'pc_name_corrected', 'candidate', 'sex', 'age', 'category', 'party', 'party_symbol', 'general_votes', 'postal_votes', 'total_votes', 'total_electors']]\n",
    "# Rename the specified columns\n",
    "df_reordered.rename(columns={\n",
    "    'general_votes': 'generalvotes_2014',\n",
    "    'postal_votes': 'postalvotes_2014',\n",
    "    'total_votes': 'totalvotes_2014',\n",
    "    'total_electors': 'totalelectors_2014'\n",
    "}, inplace=True)\n",
    "# Save the reordered DataFrame to a new CSV file\n",
    "#df_reordered.to_excel('df_2014_corrected.xlsx', index=False)\n"
   ]
  },
  {
   "cell_type": "code",
   "execution_count": 34,
   "id": "cf18f29d-630e-436c-9084-418d095ac3ff",
   "metadata": {},
   "outputs": [
    {
     "data": {
      "text/plain": [
       "state                 0\n",
       "pc_name_corrected     0\n",
       "candidate             0\n",
       "sex                   0\n",
       "age                   0\n",
       "category              0\n",
       "party                 0\n",
       "party_symbol          0\n",
       "generalvotes_2014     0\n",
       "postalvotes_2014      0\n",
       "totalvotes_2014       0\n",
       "totalelectors_2014    0\n",
       "dtype: int64"
      ]
     },
     "execution_count": 34,
     "metadata": {},
     "output_type": "execute_result"
    }
   ],
   "source": [
    "df_reordered.isnull().sum()"
   ]
  },
  {
   "cell_type": "markdown",
   "id": "38d5407c-5515-49cc-b29d-f5499ff77fb2",
   "metadata": {},
   "source": [
    "# election data 2019 check"
   ]
  },
  {
   "cell_type": "code",
   "execution_count": 35,
   "id": "d626144c-4b26-4588-ab8a-7cef2b010693",
   "metadata": {},
   "outputs": [
    {
     "data": {
      "text/html": [
       "<div>\n",
       "<style scoped>\n",
       "    .dataframe tbody tr th:only-of-type {\n",
       "        vertical-align: middle;\n",
       "    }\n",
       "\n",
       "    .dataframe tbody tr th {\n",
       "        vertical-align: top;\n",
       "    }\n",
       "\n",
       "    .dataframe thead th {\n",
       "        text-align: right;\n",
       "    }\n",
       "</style>\n",
       "<table border=\"1\" class=\"dataframe\">\n",
       "  <thead>\n",
       "    <tr style=\"text-align: right;\">\n",
       "      <th></th>\n",
       "      <th>state</th>\n",
       "      <th>pc_name</th>\n",
       "      <th>candidate</th>\n",
       "      <th>sex</th>\n",
       "      <th>age</th>\n",
       "      <th>category</th>\n",
       "      <th>party</th>\n",
       "      <th>party_symbol</th>\n",
       "      <th>general_votes</th>\n",
       "      <th>postal_votes</th>\n",
       "      <th>total_votes</th>\n",
       "      <th>total_electors</th>\n",
       "      <th>pc_name_corrected_2019</th>\n",
       "    </tr>\n",
       "  </thead>\n",
       "  <tbody>\n",
       "    <tr>\n",
       "      <th>0</th>\n",
       "      <td>Andhra Pradesh</td>\n",
       "      <td>Aruku</td>\n",
       "      <td>KISHORE CHANDRA DEO</td>\n",
       "      <td>MALE</td>\n",
       "      <td>72.0</td>\n",
       "      <td>ST</td>\n",
       "      <td>TDP</td>\n",
       "      <td>Bicycle</td>\n",
       "      <td>336163</td>\n",
       "      <td>1938</td>\n",
       "      <td>338101</td>\n",
       "      <td>1451418</td>\n",
       "      <td>Aruku</td>\n",
       "    </tr>\n",
       "    <tr>\n",
       "      <th>1</th>\n",
       "      <td>Andhra Pradesh</td>\n",
       "      <td>Aruku</td>\n",
       "      <td>Dr. KOSURI KASI VISWANADHA VEERA VENKATA SATYA...</td>\n",
       "      <td>MALE</td>\n",
       "      <td>54.0</td>\n",
       "      <td>ST</td>\n",
       "      <td>BJP</td>\n",
       "      <td>Lotus</td>\n",
       "      <td>17578</td>\n",
       "      <td>289</td>\n",
       "      <td>17867</td>\n",
       "      <td>1451418</td>\n",
       "      <td>Aruku</td>\n",
       "    </tr>\n",
       "    <tr>\n",
       "      <th>2</th>\n",
       "      <td>Andhra Pradesh</td>\n",
       "      <td>Aruku</td>\n",
       "      <td>GODDETI. MADHAVI</td>\n",
       "      <td>FEMALE</td>\n",
       "      <td>26.0</td>\n",
       "      <td>ST</td>\n",
       "      <td>YSRCP</td>\n",
       "      <td>Ceiling Fan</td>\n",
       "      <td>557561</td>\n",
       "      <td>4629</td>\n",
       "      <td>562190</td>\n",
       "      <td>1451418</td>\n",
       "      <td>Aruku</td>\n",
       "    </tr>\n",
       "  </tbody>\n",
       "</table>\n",
       "</div>"
      ],
      "text/plain": [
       "            state pc_name                                          candidate  \\\n",
       "0  Andhra Pradesh  Aruku                                 KISHORE CHANDRA DEO   \n",
       "1  Andhra Pradesh  Aruku   Dr. KOSURI KASI VISWANADHA VEERA VENKATA SATYA...   \n",
       "2  Andhra Pradesh  Aruku                                    GODDETI. MADHAVI   \n",
       "\n",
       "      sex   age category  party party_symbol  general_votes  postal_votes  \\\n",
       "0    MALE  72.0       ST    TDP      Bicycle         336163          1938   \n",
       "1    MALE  54.0       ST    BJP        Lotus          17578           289   \n",
       "2  FEMALE  26.0       ST  YSRCP  Ceiling Fan         557561          4629   \n",
       "\n",
       "   total_votes  total_electors pc_name_corrected_2019  \n",
       "0       338101         1451418                 Aruku   \n",
       "1        17867         1451418                 Aruku   \n",
       "2       562190         1451418                 Aruku   "
      ]
     },
     "execution_count": 35,
     "metadata": {},
     "output_type": "execute_result"
    }
   ],
   "source": [
    "df1.head(3)"
   ]
  },
  {
   "cell_type": "code",
   "execution_count": 36,
   "id": "34065875-7ef8-4dba-add4-3ea2124af753",
   "metadata": {},
   "outputs": [],
   "source": [
    "df1.drop(['pc_name'], axis=1, inplace=True)"
   ]
  },
  {
   "cell_type": "code",
   "execution_count": 37,
   "id": "e650e2af-eeea-4d4b-b86b-094a324aa2ca",
   "metadata": {},
   "outputs": [
    {
     "data": {
      "text/html": [
       "<div>\n",
       "<style scoped>\n",
       "    .dataframe tbody tr th:only-of-type {\n",
       "        vertical-align: middle;\n",
       "    }\n",
       "\n",
       "    .dataframe tbody tr th {\n",
       "        vertical-align: top;\n",
       "    }\n",
       "\n",
       "    .dataframe thead th {\n",
       "        text-align: right;\n",
       "    }\n",
       "</style>\n",
       "<table border=\"1\" class=\"dataframe\">\n",
       "  <thead>\n",
       "    <tr style=\"text-align: right;\">\n",
       "      <th></th>\n",
       "      <th>state</th>\n",
       "      <th>candidate</th>\n",
       "      <th>sex</th>\n",
       "      <th>age</th>\n",
       "      <th>category</th>\n",
       "      <th>party</th>\n",
       "      <th>party_symbol</th>\n",
       "      <th>general_votes</th>\n",
       "      <th>postal_votes</th>\n",
       "      <th>total_votes</th>\n",
       "      <th>total_electors</th>\n",
       "      <th>pc_name_corrected_2019</th>\n",
       "    </tr>\n",
       "  </thead>\n",
       "  <tbody>\n",
       "    <tr>\n",
       "      <th>0</th>\n",
       "      <td>Andhra Pradesh</td>\n",
       "      <td>KISHORE CHANDRA DEO</td>\n",
       "      <td>MALE</td>\n",
       "      <td>72.0</td>\n",
       "      <td>ST</td>\n",
       "      <td>TDP</td>\n",
       "      <td>Bicycle</td>\n",
       "      <td>336163</td>\n",
       "      <td>1938</td>\n",
       "      <td>338101</td>\n",
       "      <td>1451418</td>\n",
       "      <td>Aruku</td>\n",
       "    </tr>\n",
       "  </tbody>\n",
       "</table>\n",
       "</div>"
      ],
      "text/plain": [
       "            state            candidate   sex   age category party  \\\n",
       "0  Andhra Pradesh  KISHORE CHANDRA DEO  MALE  72.0       ST   TDP   \n",
       "\n",
       "  party_symbol  general_votes  postal_votes  total_votes  total_electors  \\\n",
       "0      Bicycle         336163          1938       338101         1451418   \n",
       "\n",
       "  pc_name_corrected_2019  \n",
       "0                 Aruku   "
      ]
     },
     "execution_count": 37,
     "metadata": {},
     "output_type": "execute_result"
    }
   ],
   "source": [
    "df1.head(1)"
   ]
  },
  {
   "cell_type": "code",
   "execution_count": 38,
   "id": "b545924e-4d7f-4272-ad65-33e29d3874ed",
   "metadata": {},
   "outputs": [],
   "source": [
    "df1_reordered = df1[['state', 'pc_name_corrected_2019', 'candidate', 'sex', 'age', 'category', 'party', 'party_symbol', 'general_votes', 'postal_votes', 'total_votes', 'total_electors']]\n",
    "# Rename the specified columns\n",
    "df1_reordered.rename(columns={\n",
    "    'pc_name_corrected_2019':'pc_name_corrected',\n",
    "    'general_votes': 'generalvotes_2019',\n",
    "    'postal_votes': 'postalvotes_2019',\n",
    "    'total_votes': 'totalvotes_2019',\n",
    "    'total_electors': 'totalelectors_2019'\n",
    "}, inplace=True)\n",
    "# Save the reordered DataFrame to a new CSV file\n",
    "#df1_reordered.to_excel('df_corrected_2019.xlsx', index=False)"
   ]
  },
  {
   "cell_type": "code",
   "execution_count": 39,
   "id": "afe14018-14ea-4c01-b404-8e85ddc96e4a",
   "metadata": {},
   "outputs": [
    {
     "name": "stdout",
     "output_type": "stream",
     "text": [
      "Requirement already satisfied: pandas in c:\\users\\tanush sujoy\\anaconda3\\lib\\site-packages (2.2.1)Note: you may need to restart the kernel to use updated packages.\n",
      "\n",
      "Requirement already satisfied: openpyxl in c:\\users\\tanush sujoy\\anaconda3\\lib\\site-packages (3.1.3)\n",
      "Requirement already satisfied: numpy<2,>=1.22.4 in c:\\users\\tanush sujoy\\anaconda3\\lib\\site-packages (from pandas) (1.26.2)\n",
      "Requirement already satisfied: pytz>=2020.1 in c:\\users\\tanush sujoy\\anaconda3\\lib\\site-packages (from pandas) (2023.3.post1)\n",
      "Requirement already satisfied: python-dateutil>=2.8.2 in c:\\users\\tanush sujoy\\anaconda3\\lib\\site-packages (from pandas) (2.8.2)\n",
      "Requirement already satisfied: tzdata>=2022.7 in c:\\users\\tanush sujoy\\anaconda3\\lib\\site-packages (from pandas) (2023.3)\n",
      "Requirement already satisfied: et-xmlfile in c:\\users\\tanush sujoy\\anaconda3\\lib\\site-packages (from openpyxl) (1.1.0)\n",
      "Requirement already satisfied: six>=1.5 in c:\\users\\tanush sujoy\\anaconda3\\lib\\site-packages (from python-dateutil>=2.8.2->pandas) (1.16.0)\n"
     ]
    }
   ],
   "source": [
    "pip install pandas openpyxl"
   ]
  },
  {
   "cell_type": "code",
   "execution_count": 39,
   "id": "538e904b-b57b-4ece-9eb8-b22e1b8c0a82",
   "metadata": {},
   "outputs": [
    {
     "data": {
      "text/plain": [
       "0"
      ]
     },
     "execution_count": 39,
     "metadata": {},
     "output_type": "execute_result"
    }
   ],
   "source": [
    "df1_reordered.duplicated().sum()\n",
    "#will show total duplicated records"
   ]
  },
  {
   "cell_type": "code",
   "execution_count": 40,
   "id": "7d834ec1-c482-498b-9938-ce40dd394637",
   "metadata": {},
   "outputs": [
    {
     "data": {
      "text/plain": [
       "0"
      ]
     },
     "execution_count": 40,
     "metadata": {},
     "output_type": "execute_result"
    }
   ],
   "source": [
    "df_reordered.duplicated().sum()"
   ]
  },
  {
   "cell_type": "code",
   "execution_count": 41,
   "id": "42081f59-2f56-45cf-b594-06c9e27003d3",
   "metadata": {},
   "outputs": [],
   "source": [
    "df_2014_cleaned = df_reordered.copy()\n",
    "df_2019_cleaned = df1_reordered.copy()\n",
    "\n",
    "#Drop missing values from the copies\n",
    "df_2014_cleaned.dropna(inplace=True)\n",
    "df_2019_cleaned.dropna(inplace=True)"
   ]
  },
  {
   "cell_type": "code",
   "execution_count": 42,
   "id": "71d1061d-7b9e-4fbe-97fe-d8790c9cdee0",
   "metadata": {},
   "outputs": [
    {
     "data": {
      "text/plain": [
       "state                 0\n",
       "pc_name_corrected     0\n",
       "candidate             0\n",
       "sex                   0\n",
       "age                   0\n",
       "category              0\n",
       "party                 0\n",
       "party_symbol          0\n",
       "generalvotes_2019     0\n",
       "postalvotes_2019      0\n",
       "totalvotes_2019       0\n",
       "totalelectors_2019    0\n",
       "dtype: int64"
      ]
     },
     "execution_count": 42,
     "metadata": {},
     "output_type": "execute_result"
    }
   ],
   "source": [
    "df_2014_cleaned.isnull().sum()\n",
    "df_2019_cleaned.isnull().sum()"
   ]
  },
  {
   "cell_type": "code",
   "execution_count": 43,
   "id": "fd9aebc0-f1f4-40ba-969d-23da3743f019",
   "metadata": {},
   "outputs": [],
   "source": [
    "# Create composite key\n",
    "df_2014_cleaned['composite_key'] = df_2014_cleaned.apply(lambda x: f\"{x['state']}_{x['party']}_{x['pc_name_corrected']}\", axis=1)\n",
    "df_2019_cleaned['composite_key'] = df_2019_cleaned.apply(lambda x: f\"{x['state']}_{x['party']}_{x['pc_name_corrected']}\", axis=1)"
   ]
  },
  {
   "cell_type": "code",
   "execution_count": 44,
   "id": "5ce91b4c-c422-4d9c-a3ca-cf0f9ba0fb26",
   "metadata": {
    "scrolled": true
   },
   "outputs": [
    {
     "data": {
      "text/html": [
       "<div>\n",
       "<style scoped>\n",
       "    .dataframe tbody tr th:only-of-type {\n",
       "        vertical-align: middle;\n",
       "    }\n",
       "\n",
       "    .dataframe tbody tr th {\n",
       "        vertical-align: top;\n",
       "    }\n",
       "\n",
       "    .dataframe thead th {\n",
       "        text-align: right;\n",
       "    }\n",
       "</style>\n",
       "<table border=\"1\" class=\"dataframe\">\n",
       "  <thead>\n",
       "    <tr style=\"text-align: right;\">\n",
       "      <th></th>\n",
       "      <th>state</th>\n",
       "      <th>pc_name_corrected</th>\n",
       "      <th>candidate</th>\n",
       "      <th>sex</th>\n",
       "      <th>age</th>\n",
       "      <th>category</th>\n",
       "      <th>party</th>\n",
       "      <th>party_symbol</th>\n",
       "      <th>generalvotes_2014</th>\n",
       "      <th>postalvotes_2014</th>\n",
       "      <th>totalvotes_2014</th>\n",
       "      <th>totalelectors_2014</th>\n",
       "      <th>composite_key</th>\n",
       "    </tr>\n",
       "  </thead>\n",
       "  <tbody>\n",
       "    <tr>\n",
       "      <th>0</th>\n",
       "      <td>Andhra Pradesh</td>\n",
       "      <td>Adilabad</td>\n",
       "      <td>GODAM NAGESH</td>\n",
       "      <td>M</td>\n",
       "      <td>49.0</td>\n",
       "      <td>ST</td>\n",
       "      <td>TRS</td>\n",
       "      <td>Car</td>\n",
       "      <td>425762</td>\n",
       "      <td>5085</td>\n",
       "      <td>430847</td>\n",
       "      <td>1386282</td>\n",
       "      <td>Andhra Pradesh_TRS_Adilabad</td>\n",
       "    </tr>\n",
       "  </tbody>\n",
       "</table>\n",
       "</div>"
      ],
      "text/plain": [
       "            state pc_name_corrected     candidate sex   age category party  \\\n",
       "0  Andhra Pradesh         Adilabad   GODAM NAGESH   M  49.0       ST   TRS   \n",
       "\n",
       "  party_symbol  generalvotes_2014  postalvotes_2014  totalvotes_2014  \\\n",
       "0          Car             425762              5085           430847   \n",
       "\n",
       "   totalelectors_2014                 composite_key  \n",
       "0             1386282  Andhra Pradesh_TRS_Adilabad   "
      ]
     },
     "execution_count": 44,
     "metadata": {},
     "output_type": "execute_result"
    }
   ],
   "source": [
    "df_2014_cleaned.head(1)"
   ]
  },
  {
   "cell_type": "code",
   "execution_count": 45,
   "id": "049e650a-d697-45cb-94ff-f687e267eb84",
   "metadata": {},
   "outputs": [
    {
     "data": {
      "text/html": [
       "<div>\n",
       "<style scoped>\n",
       "    .dataframe tbody tr th:only-of-type {\n",
       "        vertical-align: middle;\n",
       "    }\n",
       "\n",
       "    .dataframe tbody tr th {\n",
       "        vertical-align: top;\n",
       "    }\n",
       "\n",
       "    .dataframe thead th {\n",
       "        text-align: right;\n",
       "    }\n",
       "</style>\n",
       "<table border=\"1\" class=\"dataframe\">\n",
       "  <thead>\n",
       "    <tr style=\"text-align: right;\">\n",
       "      <th></th>\n",
       "      <th>state</th>\n",
       "      <th>pc_name_corrected</th>\n",
       "      <th>candidate</th>\n",
       "      <th>sex</th>\n",
       "      <th>age</th>\n",
       "      <th>category</th>\n",
       "      <th>party</th>\n",
       "      <th>party_symbol</th>\n",
       "      <th>generalvotes_2019</th>\n",
       "      <th>postalvotes_2019</th>\n",
       "      <th>totalvotes_2019</th>\n",
       "      <th>totalelectors_2019</th>\n",
       "      <th>composite_key</th>\n",
       "    </tr>\n",
       "  </thead>\n",
       "  <tbody>\n",
       "    <tr>\n",
       "      <th>0</th>\n",
       "      <td>Andhra Pradesh</td>\n",
       "      <td>Aruku</td>\n",
       "      <td>KISHORE CHANDRA DEO</td>\n",
       "      <td>MALE</td>\n",
       "      <td>72.0</td>\n",
       "      <td>ST</td>\n",
       "      <td>TDP</td>\n",
       "      <td>Bicycle</td>\n",
       "      <td>336163</td>\n",
       "      <td>1938</td>\n",
       "      <td>338101</td>\n",
       "      <td>1451418</td>\n",
       "      <td>Andhra Pradesh_TDP_Aruku</td>\n",
       "    </tr>\n",
       "  </tbody>\n",
       "</table>\n",
       "</div>"
      ],
      "text/plain": [
       "            state pc_name_corrected            candidate   sex   age category  \\\n",
       "0  Andhra Pradesh            Aruku   KISHORE CHANDRA DEO  MALE  72.0       ST   \n",
       "\n",
       "  party party_symbol  generalvotes_2019  postalvotes_2019  totalvotes_2019  \\\n",
       "0   TDP      Bicycle             336163              1938           338101   \n",
       "\n",
       "   totalelectors_2019              composite_key  \n",
       "0             1451418  Andhra Pradesh_TDP_Aruku   "
      ]
     },
     "execution_count": 45,
     "metadata": {},
     "output_type": "execute_result"
    }
   ],
   "source": [
    "df_2019_cleaned.head(1)"
   ]
  },
  {
   "cell_type": "markdown",
   "id": "595deaef-cfd4-4d99-982e-cece51d57879",
   "metadata": {},
   "source": [
    "# create dimension table"
   ]
  },
  {
   "cell_type": "code",
   "execution_count": 47,
   "id": "8496935e-928c-4bd9-ad46-1ffddfe72844",
   "metadata": {},
   "outputs": [],
   "source": [
    "# Create dimension tables\n",
    "candidates_2019 = df_2019_cleaned[['composite_key', 'candidate', 'sex', 'age', 'party']].drop_duplicates()\n",
    "constituencies_2019 = df_2019_cleaned[['composite_key', 'state', 'pc_name_corrected']].drop_duplicates()\n",
    "\n",
    "candidates_2014 = df_2014_cleaned[['composite_key', 'candidate', 'sex', 'age', 'party']].drop_duplicates()\n",
    "constituencies_2014 = df_2014_cleaned[['composite_key', 'state', 'pc_name_corrected']].drop_duplicates()\n",
    "\n",
    "# Rename columns to have a consistent name for merging\n",
    "#constituencies_2019.rename(columns={'pc_name_corrected_2019': 'pc_name_corrected'}, inplace=True)\n",
    "#constituencies_2014.rename(columns={'pc_name_corrected': 'pc_name_corrected'}, inplace=True)\n",
    "\n",
    "#concatenate candidates & constituencies from 2014,& 2019 \n",
    "\n",
    "candidates = pd.concat([candidates_2019, candidates_2014]).drop_duplicates()\n",
    "constituencies = pd.concat([constituencies_2019, constituencies_2014]).drop_duplicates()"
   ]
  },
  {
   "cell_type": "code",
   "execution_count": 48,
   "id": "3e7b1336-f4a6-404d-aad1-bc9954936fe7",
   "metadata": {},
   "outputs": [
    {
     "name": "stdout",
     "output_type": "stream",
     "text": [
      "no of null candidates: composite_key    0\n",
      "candidate        0\n",
      "sex              0\n",
      "age              0\n",
      "party            0\n",
      "dtype: int64\n",
      "no of null constituencies: composite_key        0\n",
      "state                0\n",
      "pc_name_corrected    0\n",
      "dtype: int64\n"
     ]
    }
   ],
   "source": [
    "print('no of null candidates:',candidates.isnull().sum())\n",
    "print('no of null constituencies:',constituencies.isnull().sum())"
   ]
  },
  {
   "cell_type": "code",
   "execution_count": 49,
   "id": "69135940-5939-4cdb-8dea-cf1530575120",
   "metadata": {},
   "outputs": [
    {
     "name": "stdout",
     "output_type": "stream",
     "text": [
      "Index(['state', 'pc_name_corrected', 'candidate', 'sex', 'age', 'category',\n",
      "       'party', 'party_symbol', 'generalvotes_2019', 'postalvotes_2019',\n",
      "       'totalvotes_2019', 'totalelectors_2019', 'composite_key'],\n",
      "      dtype='object')\n",
      "Index(['state', 'pc_name_corrected', 'candidate', 'sex', 'age', 'category',\n",
      "       'party', 'party_symbol', 'generalvotes_2014', 'postalvotes_2014',\n",
      "       'totalvotes_2014', 'totalelectors_2014', 'composite_key'],\n",
      "      dtype='object')\n"
     ]
    }
   ],
   "source": [
    "print(df_2019_cleaned.columns)\n",
    "print(df_2014_cleaned.columns)"
   ]
  },
  {
   "cell_type": "markdown",
   "id": "868a61dd-5ad0-4c5d-9a31-99a7fdc425d1",
   "metadata": {},
   "source": [
    "# create fact tables"
   ]
  },
  {
   "cell_type": "code",
   "execution_count": 51,
   "id": "8a127931-3249-4c49-a685-a5de98382ac6",
   "metadata": {},
   "outputs": [
    {
     "name": "stdout",
     "output_type": "stream",
     "text": [
      "                                       composite_key  \\\n",
      "0  Andaman & Nicobar Islands_AAAP_Andaman & Nicob...   \n",
      "1  Andaman & Nicobar Islands_AIFB_Andaman & Nicob...   \n",
      "2  Andaman & Nicobar Islands_AINHCP_Andaman & Nic...   \n",
      "3  Andaman & Nicobar Islands_AITC_Andaman & Nicob...   \n",
      "4  Andaman & Nicobar Islands_BJP_Andaman & Nicoba...   \n",
      "\n",
      "                  state_2019     pc_name_corrected_2019  candidate_2019  \\\n",
      "0  Andaman & Nicobar Islands  Andaman & Nicobar Islands  SANJAY MESHACK   \n",
      "1                        NaN                        NaN             NaN   \n",
      "2  Andaman & Nicobar Islands  Andaman & Nicobar Islands  C G SAJI KUMAR   \n",
      "3  Andaman & Nicobar Islands  Andaman & Nicobar Islands     AYAN MANDAL   \n",
      "4  Andaman & Nicobar Islands  Andaman & Nicobar Islands    VISHAL JOLLY   \n",
      "\n",
      "  sex_2019  age_2019 category_2019 party_2019  generalvotes_2019  \\\n",
      "0     MALE      49.0       GENERAL       AAAP             2837.0   \n",
      "1      NaN       NaN           NaN        NaN                NaN   \n",
      "2     MALE      48.0       GENERAL     AINHCP              212.0   \n",
      "3     MALE      30.0       GENERAL       AITC             1717.0   \n",
      "4     MALE      46.0       GENERAL        BJP            93772.0   \n",
      "\n",
      "   postalvotes_2019  ...     pc_name_corrected_2014   candidate_2014 sex_2014  \\\n",
      "0               2.0  ...  Andaman & Nicobar Islands   SANJAY MESHACK        M   \n",
      "1               NaN  ...  Andaman & Nicobar Islands        A PANDIAN        M   \n",
      "2               0.0  ...                        NaN              NaN      NaN   \n",
      "3               4.0  ...  Andaman & Nicobar Islands     ANITA MONDAL        F   \n",
      "4             129.0  ...  Andaman & Nicobar Islands  BISHNU PADA RAY        M   \n",
      "\n",
      "  age_2014 category_2014 party_2014  generalvotes_2014 postalvotes_2014  \\\n",
      "0     43.0           GEN       AAAP             3725.0             12.0   \n",
      "1     41.0           GEN       AIFB              225.0              0.0   \n",
      "2      NaN           NaN        NaN                NaN              NaN   \n",
      "3     48.0           GEN       AITC             2283.0              0.0   \n",
      "4     64.0           GEN        BJP            90882.0             87.0   \n",
      "\n",
      "  totalvotes_2014  totalelectors_2014  \n",
      "0          3737.0            269360.0  \n",
      "1           225.0            269360.0  \n",
      "2             NaN                 NaN  \n",
      "3          2283.0            269360.0  \n",
      "4         90969.0            269360.0  \n",
      "\n",
      "[5 rows x 23 columns]\n"
     ]
    }
   ],
   "source": [
    "# Ensure the fact tables have the correct column names\n",
    "fact_2014 = df_2014_cleaned[['composite_key', 'state', 'pc_name_corrected', 'candidate', 'sex', 'age', 'category', 'party', 'generalvotes_2014', 'postalvotes_2014', 'totalvotes_2014', 'totalelectors_2014']]\n",
    "fact_2019 = df_2019_cleaned[['composite_key', 'state', 'pc_name_corrected', 'candidate', 'sex', 'age', 'category', 'party', 'generalvotes_2019', 'postalvotes_2019', 'totalvotes_2019', 'totalelectors_2019']]\n",
    "\n",
    "# Select necessary columns and align them\n",
    "#fact_2014 = fact_2014[['composite_key', 'state', 'pc_name_corrected', 'candidate', 'sex', 'age', 'category', 'party', 'general_votes_2014', 'postal_votes_2014', 'total_votes_2014', 'total_electors_2014']]\n",
    "#fact_2019 = fact_2019[['composite_key', 'state', 'pc_name_corrected_2019', 'candidate', 'sex', 'age', 'category', 'party', 'general_votes_2019', 'postal_votes_2019', 'total_votes_2019', 'total_electors_2019']]\n",
    "\n",
    "# Merge fact_2019 and fact_2014 on composite_key\n",
    "fact_combined = pd.merge(fact_2019, fact_2014, on='composite_key', how='outer', suffixes=('_2019', '_2014'))\n",
    "\n",
    "# Optionally, save the resulting fact table to a CSV or Excel file\n",
    "fact_combined.to_excel('fact_combined.xlsx', index=False)\n",
    "\n",
    "# Print the first few rows to check the result\n",
    "print(fact_combined.head())\n"
   ]
  },
  {
   "cell_type": "code",
   "execution_count": 52,
   "id": "b63775a2-e399-46fb-9385-fc6da26a562d",
   "metadata": {},
   "outputs": [],
   "source": [
    "# Save the DataFrames to new Excel files\n",
    "candidates.to_excel('candidates.xlsx', index=False)\n",
    "constituencies.to_excel('constituencies.xlsx', index=False)\n"
   ]
  }
 ],
 "metadata": {
  "kernelspec": {
   "display_name": "Python 3 (ipykernel)",
   "language": "python",
   "name": "python3"
  },
  "language_info": {
   "codemirror_mode": {
    "name": "ipython",
    "version": 3
   },
   "file_extension": ".py",
   "mimetype": "text/x-python",
   "name": "python",
   "nbconvert_exporter": "python",
   "pygments_lexer": "ipython3",
   "version": "3.10.13"
  }
 },
 "nbformat": 4,
 "nbformat_minor": 5
}
